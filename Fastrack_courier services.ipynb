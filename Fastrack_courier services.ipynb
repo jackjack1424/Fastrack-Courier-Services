{
 "cells": [
  {
   "cell_type": "markdown",
   "id": "ad4a267b",
   "metadata": {},
   "source": [
    "Q1.Create a Dictionary of list store the information of shipments given in the table"
   ]
  },
  {
   "cell_type": "code",
   "execution_count": 2,
   "id": "ee6a66f1",
   "metadata": {},
   "outputs": [],
   "source": [
    "ship={101:[1,3,'14-03-2020','25-03-2020','Area1','Area6','Delivered',198],\n",
    "     102:[4,1,'18-06-2020','09-07-2020','Area2','Area4','Delivered',275],\n",
    "     103:[2,3,'1-12-2020','Null','Area5','Area1','In-Transit',200],\n",
    "     104:[1,5,'23-06-2020','25-06-2020','Area1','Area4','Delivered',314],\n",
    "     105:[3,4,'29-08-2020','10-09-2020','Area5','Area3','Delivered',275],\n",
    "     106:[5,2,'28-06-2020','Null','Area3','Area1','In-Transit',270]}\n"
   ]
  },
  {
   "cell_type": "markdown",
   "id": "82b3081a",
   "metadata": {},
   "source": [
    "Q2.Create a Dictionary to store the information of clients given in the table"
   ]
  },
  {
   "cell_type": "code",
   "execution_count": 4,
   "id": "cb90f2ef",
   "metadata": {},
   "outputs": [],
   "source": [
    "client_dict={1:'Philip',2:'Omega 111',\n",
    "             3:'Ramya',4:'Romesh',5:'John'}\n"
   ]
  },
  {
   "cell_type": "markdown",
   "id": "d2d0a16f",
   "metadata": {},
   "source": [
    "Q3.Write a code to replace clients 'IDs with the irrespective names in the shipment dictionary using aloop and dictionary comprehension"
   ]
  },
  {
   "cell_type": "code",
   "execution_count": 5,
   "id": "631d55fd",
   "metadata": {},
   "outputs": [
    {
     "name": "stdout",
     "output_type": "stream",
     "text": [
      "{101: ['Philip', 'Ramya', '14-03-2020', '25-03-2020', 'Area1', 'Area6', 'Delivered', 198], 102: ['Romesh', 'Philip', '18-06-2020', '09-07-2020', 'Area2', 'Area4', 'Delivered', 275], 103: ['Omega 111', 'Ramya', '1-12-2020', 'Null', 'Area5', 'Area1', 'In-Transit', 200], 104: ['Philip', 'John', '23-06-2020', '25-06-2020', 'Area1', 'Area4', 'Delivered', 314], 105: ['Ramya', 'Romesh', '29-08-2020', '10-09-2020', 'Area5', 'Area3', 'Delivered', 275], 106: ['John', 'Omega 111', '28-06-2020', 'Null', 'Area3', 'Area1', 'In-Transit', 270]}\n"
     ]
    }
   ],
   "source": [
    "for i in ship.values():\n",
    "    if i[0] in client_dict:\n",
    "        i[0] = client_dict.get(i[0])\n",
    "        \n",
    "    if i[1] in client_dict:\n",
    "        i[1] = client_dict.get(i[1])\n",
    "print(ship)"
   ]
  },
  {
   "cell_type": "markdown",
   "id": "23426592",
   "metadata": {},
   "source": [
    "Q4.Print all shipment details that are sent by Phillip"
   ]
  },
  {
   "cell_type": "code",
   "execution_count": 6,
   "id": "b1b1a14d",
   "metadata": {},
   "outputs": [
    {
     "name": "stdout",
     "output_type": "stream",
     "text": [
      "['Philip', 'Ramya', '14-03-2020', '25-03-2020', 'Area1', 'Area6', 'Delivered', 198]\n",
      "['Philip', 'John', '23-06-2020', '25-06-2020', 'Area1', 'Area4', 'Delivered', 314]\n"
     ]
    }
   ],
   "source": [
    "for i in ship.values():\n",
    "    if i[0] == 'Philip':\n",
    "        print(i)"
   ]
  },
  {
   "cell_type": "markdown",
   "id": "f4dc3362",
   "metadata": {},
   "source": [
    "Q5.Print all shipment details that are received by Ramya"
   ]
  },
  {
   "cell_type": "code",
   "execution_count": 48,
   "id": "975e3144",
   "metadata": {
    "scrolled": true
   },
   "outputs": [
    {
     "name": "stdout",
     "output_type": "stream",
     "text": [
      "['Philip', 'Ramya', '14-03-2020', '25-03-2020', 'Area1', 'Area6', 'Delivered', 198]\n",
      "['Omega', 'Ramya', '1-12-2020', 'Null', 'Area5', 'Area1', 'In-Transit', 200]\n"
     ]
    }
   ],
   "source": [
    "for i in ship.values():\n",
    "    if i[1]=='Ramya':\n",
    "        print(i)"
   ]
  },
  {
   "cell_type": "markdown",
   "id": "11b6a03f",
   "metadata": {},
   "source": [
    "Q6.Print all shipments which are in'In-Transit' status"
   ]
  },
  {
   "cell_type": "code",
   "execution_count": 49,
   "id": "3cb8a635",
   "metadata": {},
   "outputs": [
    {
     "name": "stdout",
     "output_type": "stream",
     "text": [
      "['Omega', 'Ramya', '1-12-2020', 'Null', 'Area5', 'Area1', 'In-Transit', 200]\n",
      "['John', 'Omega', '28-06-2020', 'Null', 'Area3', 'Area1', 'In-Transit', 270]\n"
     ]
    }
   ],
   "source": [
    "for i in ship.values():\n",
    "    if i[6]=='In-Transit':\n",
    "        print(i)"
   ]
  },
  {
   "cell_type": "markdown",
   "id": "492f44f9",
   "metadata": {},
   "source": [
    "Q7.Print all shipments which are delivered within 7days of courier Startdate"
   ]
  },
  {
   "cell_type": "code",
   "execution_count": 15,
   "id": "df945972",
   "metadata": {},
   "outputs": [
    {
     "name": "stdout",
     "output_type": "stream",
     "text": [
      "['Philip', 'John', '23-06-2020', '25-06-2020', 'Area1', 'Area4', 'Delivered', 314]\n"
     ]
    }
   ],
   "source": [
    "import datetime\n",
    "from datetime import timedelta\n",
    "for i in ship:\n",
    "    if(ship[i][3]!='Null'):\n",
    "        start=datetime.datetime.strptime(ship[i][2],'%d-%m-%Y')\n",
    "        end=datetime.datetime.strptime(ship[i][3],'%d-%m-%Y')\n",
    "        if (end-start)<=datetime.timedelta(days=7):\n",
    "            print(ship[i])\n",
    "                        \n",
    "            "
   ]
  },
  {
   "cell_type": "markdown",
   "id": "60b93269",
   "metadata": {},
   "source": [
    "Q8.Print all shipments which are delivered after 15 days of courier startdate or have not yet been delivered."
   ]
  },
  {
   "cell_type": "code",
   "execution_count": 16,
   "id": "2e3ca922",
   "metadata": {},
   "outputs": [
    {
     "name": "stdout",
     "output_type": "stream",
     "text": [
      "['Romesh', 'Philip', '18-06-2020', '09-07-2020', 'Area2', 'Area4', 'Delivered', 275]\n",
      "['Omega 111', 'Ramya', '1-12-2020', 'Null', 'Area5', 'Area1', 'In-Transit', 200]\n",
      "['John', 'Omega 111', '28-06-2020', 'Null', 'Area3', 'Area1', 'In-Transit', 270]\n"
     ]
    }
   ],
   "source": [
    "for i in ship:\n",
    "    if(ship[i][3]!='Null'):\n",
    "        start=datetime.datetime.strptime(ship[i][2],'%d-%m-%Y')\n",
    "        end=datetime.datetime.strptime(ship[i][3],'%d-%m-%Y')\n",
    "        if (end-start)>=datetime.timedelta(days=15):\n",
    "            print(ship[i])\n",
    "for i in ship:\n",
    "    if (ship[i][3]=='Null'):\n",
    "        print(ship[i])\n",
    "        \n",
    "         "
   ]
  },
  {
   "cell_type": "markdown",
   "id": "596ae08f",
   "metadata": {},
   "source": [
    "Q9. Print the shipment details whose shipment cost in the range of 200 to 300."
   ]
  },
  {
   "cell_type": "code",
   "execution_count": 50,
   "id": "2498cc77",
   "metadata": {},
   "outputs": [
    {
     "name": "stdout",
     "output_type": "stream",
     "text": [
      "['Romesh', 'Philip', '18-06-2020', '09-07-2020', 'Area2', 'Area4', 'Delivered', 275]\n",
      "['Omega', 'Ramya', '1-12-2020', 'Null', 'Area5', 'Area1', 'In-Transit', 200]\n",
      "['Ramya', 'Romesh', '29-08-2020', '10-09-2020', 'Area5', 'Area3', 'Delivered', 275]\n",
      "['John', 'Omega', '28-06-2020', 'Null', 'Area3', 'Area1', 'In-Transit', 270]\n"
     ]
    }
   ],
   "source": [
    "for i in ship.values():\n",
    "    if ((i[7]>=200) and (i[7]<=300)):\n",
    "        print(i)\n",
    "    "
   ]
  },
  {
   "cell_type": "markdown",
   "id": "f083d1a3",
   "metadata": {},
   "source": [
    "Q10. Print the name of all senders whose delivery status is ‘in-transit’"
   ]
  },
  {
   "cell_type": "code",
   "execution_count": 55,
   "id": "5b9e48e6",
   "metadata": {},
   "outputs": [
    {
     "name": "stdout",
     "output_type": "stream",
     "text": [
      "Omega 111\n",
      "John\n"
     ]
    }
   ],
   "source": [
    "for i in ship.values():\n",
    "    if i[6]=='In-Transit':\n",
    "        print(i[0])"
   ]
  },
  {
   "cell_type": "markdown",
   "id": "6c1a9b72",
   "metadata": {},
   "source": [
    "Q11. Print the shipment ID that has the highest shipment cost."
   ]
  },
  {
   "cell_type": "code",
   "execution_count": 31,
   "id": "3ca37cbc",
   "metadata": {},
   "outputs": [
    {
     "name": "stdout",
     "output_type": "stream",
     "text": [
      "['Philip', 'John', '23-06-2020', '25-06-2020', 'Area1', 'Area4', 'Delivered', 314]\n"
     ]
    }
   ],
   "source": [
    "for i in ship:\n",
    "    if ship[i][7]>300:\n",
    "        print (ship[i])\n",
    "   \n",
    "    "
   ]
  },
  {
   "cell_type": "markdown",
   "id": "dbd3f05d",
   "metadata": {},
   "source": [
    "Q12. Print all the shipment details that are delivered by ‘John’ and received by ‘Omega III’"
   ]
  },
  {
   "cell_type": "code",
   "execution_count": 58,
   "id": "72da5260",
   "metadata": {},
   "outputs": [
    {
     "name": "stdout",
     "output_type": "stream",
     "text": [
      "['John', 'Omega 111', '28-06-2020', 'Null', 'Area3', 'Area1', 'In-Transit', 270]\n"
     ]
    }
   ],
   "source": [
    "for i in ship.values():\n",
    "    if ((i[0]=='John')and (i[1]=='Omega 111')):\n",
    "        print(i)"
   ]
  },
  {
   "cell_type": "code",
   "execution_count": null,
   "id": "30d9a4b9",
   "metadata": {},
   "outputs": [],
   "source": [
    "       "
   ]
  }
 ],
 "metadata": {
  "kernelspec": {
   "display_name": "Python 3 (ipykernel)",
   "language": "python",
   "name": "python3"
  },
  "language_info": {
   "codemirror_mode": {
    "name": "ipython",
    "version": 3
   },
   "file_extension": ".py",
   "mimetype": "text/x-python",
   "name": "python",
   "nbconvert_exporter": "python",
   "pygments_lexer": "ipython3",
   "version": "3.9.7"
  }
 },
 "nbformat": 4,
 "nbformat_minor": 5
}
